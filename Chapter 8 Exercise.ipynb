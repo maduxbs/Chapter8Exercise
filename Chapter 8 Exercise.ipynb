{
 "cells": [
  {
   "cell_type": "markdown",
   "id": "7b4a22ba",
   "metadata": {},
   "source": [
    "## Algorithm Workbench (Any Two Questions)\n"
   ]
  },
  {
   "cell_type": "markdown",
   "id": "bcf54d71",
   "metadata": {},
   "source": [
    "## 5 Ex."
   ]
  },
  {
   "cell_type": "code",
   "execution_count": 3,
   "id": "af3d3ecc",
   "metadata": {},
   "outputs": [
    {
     "name": "stdout",
     "output_type": "stream",
     "text": [
      "True\n"
     ]
    }
   ],
   "source": [
    "def ends_with_com(input_string):\n",
    "    return input_string.endswith('.com')\n",
    "\n",
    "# Example usage:\n",
    "my_string = \"email.com\"\n",
    "result = ends_with_com(my_string)\n",
    "print(result)  # This will print True for \"email.com\""
   ]
  },
  {
   "cell_type": "markdown",
   "id": "12e024ea",
   "metadata": {},
   "source": [
    "The 'ends_with_com' function takes an input string and uses the 'endswith()' method to check if it ends with the '.com' substring. It returns 'True' if it does and 'False' otherwise."
   ]
  },
  {
   "cell_type": "code",
   "execution_count": 4,
   "id": "890aa99c",
   "metadata": {},
   "outputs": [
    {
     "name": "stdout",
     "output_type": "stream",
     "text": [
      "Split into items: [' cookies', 'milk', 'fudge', 'cake', 'ice cream']\n",
      "Individual items:\n",
      " cookies\n",
      "milk\n",
      "fudge\n",
      "cake\n",
      "ice cream\n",
      "'cake' found in the string.\n",
      "String with 'milk' replaced:  cookies>juice>fudge>cake>ice cream\n"
     ]
    }
   ],
   "source": [
    "# Define the string\n",
    "mystring = ' cookies>milk>fudge>cake>ice cream'\n",
    "\n",
    "# 1. Split the string into a list using the '>' delimiter\n",
    "items = mystring.split('>')\n",
    "print(\"Split into items:\", items)\n",
    "\n",
    "# 2. Access and print individual items\n",
    "print(\"Individual items:\")\n",
    "for item in items:\n",
    "    print(item)\n",
    "\n",
    "# 3. Check if a specific item exists in the string\n",
    "search_item = \"cake\"\n",
    "if search_item in mystring:\n",
    "    print(f\"'{search_item}' found in the string.\")\n",
    "else:\n",
    "    print(f\"'{search_item}' not found in the string.\")\n",
    "\n",
    "# 4. Replace a substring\n",
    "replaced_string = mystring.replace(\"milk\", \"juice\")\n",
    "print(\"String with 'milk' replaced:\", replaced_string)"
   ]
  },
  {
   "cell_type": "markdown",
   "id": "5868843f",
   "metadata": {},
   "source": [
    "## Programming Exercises (Four Questions)"
   ]
  },
  {
   "cell_type": "markdown",
   "id": "aafc2382",
   "metadata": {},
   "source": [
    "## 1 Ex."
   ]
  },
  {
   "cell_type": "code",
   "execution_count": 7,
   "id": "d5216b9b",
   "metadata": {},
   "outputs": [
    {
     "name": "stdout",
     "output_type": "stream",
     "text": [
      "Enter your full name: Madux Biondo-Smith\n",
      "Initials: M.  B.\n"
     ]
    }
   ],
   "source": [
    "def get_initials(full_name):\n",
    "    # Split the full name into a list of names\n",
    "    names = full_name.split()\n",
    "\n",
    "    # Initialize variables for first, middle, and last initials\n",
    "    first_initial = names[0][0] + '.'\n",
    "    middle_initial = names[1][0] + '.' if len(names) > 2 else ''  # Check if a middle name exists\n",
    "    last_initial = names[-1][0] + '.'\n",
    "\n",
    "    # Print the initials\n",
    "    print(\"Initials:\", first_initial, middle_initial, last_initial)\n",
    "\n",
    "# Input from the user\n",
    "full_name = input(\"Enter your full name: \")\n",
    "\n",
    "# Call the function to get and display the initials\n",
    "get_initials(full_name)"
   ]
  },
  {
   "cell_type": "markdown",
   "id": "9e5579cc",
   "metadata": {},
   "source": [
    "## 3 Ex."
   ]
  },
  {
   "cell_type": "code",
   "execution_count": 8,
   "id": "cc21d934",
   "metadata": {},
   "outputs": [
    {
     "name": "stdout",
     "output_type": "stream",
     "text": [
      "Enter a date in the format mm/dd/yyyy: 10/11/2023\n",
      "Formatted date: October 11, 2023\n"
     ]
    }
   ],
   "source": [
    "# Define a list of month names\n",
    "months = [\"January\", \"February\", \"March\", \"April\", \"May\", \"June\", \"July\", \"August\",\n",
    "          \"September\", \"October\", \"November\", \"December\"]\n",
    "\n",
    "# Input from the user\n",
    "date = input(\"Enter a date in the format mm/dd/yyyy: \")\n",
    "\n",
    "# Split the date into month, day, and year\n",
    "date_parts = date.split(\"/\")\n",
    "if len(date_parts) == 3:\n",
    "    month, day, year = date_parts\n",
    "    month = months[int(month) - 1]  # Convert the numeric month to the corresponding month name\n",
    "\n",
    "    # Print the date in the desired format\n",
    "    formatted_date = f\"{month} {day}, {year}\"\n",
    "    print(\"Formatted date:\", formatted_date)\n",
    "else:\n",
    "    print(\"Invalid date format. Please use mm/dd/yyyy.\")\n"
   ]
  },
  {
   "cell_type": "markdown",
   "id": "c00ba4f7",
   "metadata": {},
   "source": [
    "## 9 Ex."
   ]
  },
  {
   "cell_type": "code",
   "execution_count": 10,
   "id": "6bbc5b68",
   "metadata": {},
   "outputs": [
    {
     "name": "stdout",
     "output_type": "stream",
     "text": [
      "Enter a string: aeiouAEIOU\n",
      "Number of vowels: 10\n",
      "Number of consonants: 0\n"
     ]
    }
   ],
   "source": [
    "# Function to count vowels in a string\n",
    "def count_vowels(input_string):\n",
    "    vowels = \"aeiouAEIOU\"\n",
    "    count = 0\n",
    "    for char in input_string:\n",
    "        if char in vowels:\n",
    "            count += 1\n",
    "    return count\n",
    "\n",
    "# Function to count consonants in a string\n",
    "def count_consonants(input_string):\n",
    "    consonants = \"bcdfghjklmnpqrstvwxyzBCDFGHJKLMNPQRSTVWXYZ\"\n",
    "    count = 0\n",
    "    for char in input_string:\n",
    "        if char in consonants:\n",
    "            count += 1\n",
    "    return count\n",
    "\n",
    "# Input from the user\n",
    "user_input = input(\"Enter a string: \")\n",
    "\n",
    "# Call the functions to count vowels and consonants\n",
    "vowel_count = count_vowels(user_input)\n",
    "consonant_count = count_consonants(user_input)\n",
    "\n",
    "# Display the results\n",
    "print(\"Number of vowels:\", vowel_count)\n",
    "print(\"Number of consonants:\", consonant_count)"
   ]
  },
  {
   "cell_type": "markdown",
   "id": "0c1bda85",
   "metadata": {},
   "source": [
    "## 11 Ex."
   ]
  },
  {
   "cell_type": "code",
   "execution_count": 12,
   "id": "a9c65fdc",
   "metadata": {},
   "outputs": [
    {
     "name": "stdout",
     "output_type": "stream",
     "text": [
      "Enter a sentence with run-together words: StopAndSmellTheRoses.\n",
      "Converted sentence: Stop And Smell The Roses.\n"
     ]
    }
   ],
   "source": [
    "def convert_sentence(input_sentence):\n",
    "    # Initialize an empty result string\n",
    "    result_sentence = \"\"\n",
    "\n",
    "    # Iterate through the characters in the input sentence\n",
    "    for i in range(len(input_sentence)):\n",
    "        # Append the first character as uppercase\n",
    "        if i == 0:\n",
    "            result_sentence += input_sentence[i].upper()\n",
    "        # Append spaces before each subsequent uppercase character\n",
    "        elif input_sentence[i].isupper():\n",
    "            result_sentence += \" \" + input_sentence[i]\n",
    "        # Append lowercase characters as-is\n",
    "        else:\n",
    "            result_sentence += input_sentence[i]\n",
    "\n",
    "    return result_sentence\n",
    "\n",
    "# Input from the user\n",
    "input_sentence = input(\"Enter a sentence with run-together words: \")\n",
    "\n",
    "# Call the function to convert the sentence\n",
    "converted_sentence = convert_sentence(input_sentence)\n",
    "\n",
    "# Display the converted sentence\n",
    "print(\"Converted sentence:\", converted_sentence)"
   ]
  },
  {
   "cell_type": "code",
   "execution_count": null,
   "id": "a7b609cd",
   "metadata": {},
   "outputs": [],
   "source": []
  }
 ],
 "metadata": {
  "kernelspec": {
   "display_name": "Python 3 (ipykernel)",
   "language": "python",
   "name": "python3"
  },
  "language_info": {
   "codemirror_mode": {
    "name": "ipython",
    "version": 3
   },
   "file_extension": ".py",
   "mimetype": "text/x-python",
   "name": "python",
   "nbconvert_exporter": "python",
   "pygments_lexer": "ipython3",
   "version": "3.11.4"
  }
 },
 "nbformat": 4,
 "nbformat_minor": 5
}
